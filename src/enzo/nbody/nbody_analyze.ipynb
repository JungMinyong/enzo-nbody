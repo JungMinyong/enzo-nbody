{
 "cells": [
  {
   "cell_type": "code",
   "execution_count": 1,
   "id": "eccc3e7a",
   "metadata": {},
   "outputs": [],
   "source": [
    "import numpy as np\n",
    "import matplotlib.pyplot as plt\n",
    "import pandas as pd\n",
    "import math"
   ]
  },
  {
   "cell_type": "code",
   "execution_count": 2,
   "id": "b6f60968",
   "metadata": {},
   "outputs": [],
   "source": [
    "########Mathematical Constants#######\n",
    "pi = 3.141592\n",
    "\n",
    "########Physical Constants########\n",
    "\n",
    "c = 2.99792458*10**10 #[cm s-1]\n",
    "G = 6.67408*(10**(-8)) #[cm3 g-1 s-2]\n",
    "h = 6.6260755*10**(-27) #[erg s]\n",
    "h_bar = h/2/np.pi\n",
    "k_B = 1.380658*10**(-16) #[erg K-1]\n",
    "m_e = 9.1093897e-28 #[g]\n",
    "m_p = 1.6726219e-24 #[g]\n",
    "e = 4.8032068e-10 #[esu]\n",
    "sigma_T = 0.665*1e-24 #[cm2]\n",
    "sigma_B = 5.59e-5 #[erg cm-2 s-1 K-4] cf. Stephan Boltzmann law\n",
    "\n",
    "########Astronomical Units########\n",
    "\n",
    "pc = 3.0856776*10**18 #[cm]\n",
    "kpc = 3.0856776*10**21 #[cm]\n",
    "Mpc = 3.0856776*10**24 #[cm]\n",
    "AU = 1.4959787066*10**13 #[cm]\n",
    "ly = 9.460730472*10**17 #[cm]\n",
    "Msun = 1.9891*10**33 #[g]\n",
    "Rsun = 6.95508*10**10 #[cm]\n",
    "Lsun = 3.845*10**33 #[erg s-1]\n",
    "eV = 1.60218e-12 #[erg]\n",
    "\n",
    "#######Units########\n",
    "yr = 365*24*60*60\n",
    "Myr = yr*1e6\n",
    "km = 1e5\n",
    "s = 1"
   ]
  },
  {
   "cell_type": "code",
   "execution_count": 4,
   "id": "79ef9095",
   "metadata": {},
   "outputs": [],
   "source": [
    "# get the data\n",
    "\n",
    "data1 = np.loadtxt(\"earth_sun_32/totalenergy.dat\",usecols = range(3))\n",
    "data2 = np.loadtxt(\"earth_sun_16/totalenergy.dat\",usecols = range(3))\n",
    "\n",
    "kinetic1 = data1.T[0]\n",
    "potential1 = data1.T[1]\n",
    "total1 = data1.T[2]\n",
    "\n",
    "kinetic2 = data2.T[0]\n",
    "potential2 = data2.T[1]\n",
    "total2 = data2.T[2]\n",
    "\n",
    "l1 = len(total1)\n",
    "l2 = len(total2)\n",
    "\n",
    "timeunit1 = 1*0.03*0.033*12\n",
    "time1 = np.linspace(1,l1-1,l1)*timeunit1\n",
    "\n",
    "timeunit2 = 1*0.06*0.033*12\n",
    "time2 = np.linspace(1,l2-1,l2)*timeunit2"
   ]
  },
  {
   "cell_type": "code",
   "execution_count": 8,
   "id": "37b615af",
   "metadata": {},
   "outputs": [
    {
     "data": {
      "image/png": "[encoded data removed]",
      "text/plain": [
       "<Figure size 576x432 with 1 Axes>"
      ]
     },
     "metadata": {
      "needs_background": "light"
     },
     "output_type": "display_data"
    }
   ],
   "source": [
    "# plot the results\n",
    "\n",
    "plt.figure(figsize=(8,6))\n",
    "plt.plot(time1, kinetic1, 'r', label = 'kinetic E 0.012')\n",
    "plt.plot(time1, potential1, 'r', label = 'potential E 0.012')\n",
    "plt.plot(time1, total1, 'r', label = 'total E 0.012')\n",
    "plt.plot(time2, kinetic2, 'b', label = 'kinetic E 0.024')\n",
    "plt.plot(time2, potential2, 'b', label = 'potential E 0.024')\n",
    "plt.plot(time2, total2, 'b', label = 'total E 0.024')\n",
    "plt.xlabel('time(month)')\n",
    "plt.ylabel('energy(nbody unit)')\n",
    "plt.xlim(0,1.2)\n",
    "plt.title('Energy of Earth-Sun Revolution')\n",
    "plt.legend()\n",
    "plt.show()"
   ]
  },
  {
   "cell_type": "code",
   "execution_count": null,
   "id": "df958f26",
   "metadata": {},
   "outputs": [],
   "source": []
  }
 ],
 "metadata": {
  "kernelspec": {
   "display_name": "Python 3 (ipykernel)",
   "language": "python",
   "name": "python3"
  },
  "language_info": {
   "codemirror_mode": {
    "name": "ipython",
    "version": 3
   },
   "file_extension": ".py",
   "mimetype": "text/x-python",
   "name": "python",
   "nbconvert_exporter": "python",
   "pygments_lexer": "ipython3",
   "version": "3.9.12"
  }
 },
 "nbformat": 4,
 "nbformat_minor": 5
}
