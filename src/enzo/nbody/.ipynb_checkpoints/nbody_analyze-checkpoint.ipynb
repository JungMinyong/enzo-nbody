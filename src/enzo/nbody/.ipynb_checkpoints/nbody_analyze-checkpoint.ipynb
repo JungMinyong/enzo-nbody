{
 "cells": [
  {
   "cell_type": "code",
   "execution_count": null,
   "id": "015c26b4",
   "metadata": {},
   "outputs": [],
   "source": [
    "import numpy as np\n",
    "import matplotlib.pyplot as plt\n",
    "import pandas as pd\n",
    "import math"
   ]
  },
  {
   "cell_type": "code",
   "execution_count": null,
   "id": "671eacb7",
   "metadata": {},
   "outputs": [],
   "source": [
    "########Mathematical Constants#######\n",
    "pi = 3.141592\n",
    "\n",
    "########Physical Constants########\n",
    "\n",
    "c = 2.99792458*10**10 #[cm s-1]\n",
    "G = 6.67408*(10**(-8)) #[cm3 g-1 s-2]\n",
    "h = 6.6260755*10**(-27) #[erg s]\n",
    "h_bar = h/2/np.pi\n",
    "k_B = 1.380658*10**(-16) #[erg K-1]\n",
    "m_e = 9.1093897e-28 #[g]\n",
    "m_p = 1.6726219e-24 #[g]\n",
    "e = 4.8032068e-10 #[esu]\n",
    "sigma_T = 0.665*1e-24 #[cm2]\n",
    "sigma_B = 5.59e-5 #[erg cm-2 s-1 K-4] cf. Stephan Boltzmann law\n",
    "\n",
    "########Astronomical Units########\n",
    "\n",
    "pc = 3.0856776*10**18 #[cm]\n",
    "kpc = 3.0856776*10**21 #[cm]\n",
    "Mpc = 3.0856776*10**24 #[cm]\n",
    "AU = 1.4959787066*10**13 #[cm]\n",
    "ly = 9.460730472*10**17 #[cm]\n",
    "Msun = 1.9891*10**33 #[g]\n",
    "Rsun = 6.95508*10**10 #[cm]\n",
    "Lsun = 3.845*10**33 #[erg s-1]\n",
    "eV = 1.60218e-12 #[erg]\n",
    "\n",
    "#######Units########\n",
    "yr = 365*24*60*60\n",
    "Myr = yr*1e6\n",
    "km = 1e5\n",
    "s = 1"
   ]
  },
  {
   "cell_type": "code",
   "execution_count": null,
   "id": "57d1e08b",
   "metadata": {},
   "outputs": [],
   "source": [
    "# get the data\n",
    "\n",
    "data = np.loadtxt(\"earth_sun_32/totalenergy.dat\",usecols = range(3))\n",
    "\n",
    "kinetic = data.T[0]\n",
    "potential = data.T[1]\n",
    "total = data.T[2]\n",
    "\n",
    "l = len(total)\n",
    "timeunit = 1*0.03*0.033*12\n",
    "time = np.linspace(1,l,l+1)*timeunit"
   ]
  },
  {
   "cell_type": "code",
   "execution_count": null,
   "id": "1b9f7b2a",
   "metadata": {},
   "outputs": [],
   "source": [
    "# plot the results\n",
    "\n",
    "plt.plot(r, jaffevel, 'r', label = 'jaffe')\n",
    "plt.plot(r, hernquistvel, 'g', label = 'hernquist')\n",
    "plt.plot(r, NFWvel, 'b', label = 'NFW')\n",
    "plt.xscale(\"log\")\n",
    "plt.xlabel('r/r0 (logscale)')\n",
    "plt.ylabel('vc')\n",
    "plt.title('rotation curve')\n",
    "plt.legend()\n",
    "plt.show()"
   ]
  }
 ],
 "metadata": {
  "kernelspec": {
   "display_name": "Python 3 (ipykernel)",
   "language": "python",
   "name": "python3"
  },
  "language_info": {
   "codemirror_mode": {
    "name": "ipython",
    "version": 3
   },
   "file_extension": ".py",
   "mimetype": "text/x-python",
   "name": "python",
   "nbconvert_exporter": "python",
   "pygments_lexer": "ipython3",
   "version": "3.9.12"
  }
 },
 "nbformat": 4,
 "nbformat_minor": 5
}
