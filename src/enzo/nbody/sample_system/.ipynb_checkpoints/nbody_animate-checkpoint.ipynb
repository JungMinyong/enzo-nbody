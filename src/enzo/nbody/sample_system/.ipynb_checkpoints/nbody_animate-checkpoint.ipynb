{
 "cells": [
  {
   "cell_type": "code",
   "execution_count": 1,
   "id": "13247c13",
   "metadata": {},
   "outputs": [],
   "source": [
    "import numpy as np\n",
    "import matplotlib.pyplot as plt\n",
    "\n",
    "import matplotlib.animation as animation\n",
    "import pandas as pd\n",
    "from pathlib import Path"
   ]
  },
  {
   "cell_type": "code",
   "execution_count": 2,
   "id": "44529f79",
   "metadata": {},
   "outputs": [],
   "source": [
    "########Mathematical Constants#######\n",
    "pi = 3.141592\n",
    "\n",
    "########Physical Constants########\n",
    "\n",
    "c = 2.99792458*10**10 #[cm s-1]\n",
    "G = 6.67408*(10**(-8)) #[cm3 g-1 s-2]\n",
    "h = 6.6260755*10**(-27) #[erg s]\n",
    "h_bar = h/2/np.pi\n",
    "k_B = 1.380658*10**(-16) #[erg K-1]\n",
    "m_e = 9.1093897e-28 #[g]\n",
    "m_p = 1.6726219e-24 #[g]\n",
    "e = 4.8032068e-10 #[esu]\n",
    "sigma_T = 0.665*1e-24 #[cm2]\n",
    "sigma_B = 5.59e-5 #[erg cm-2 s-1 K-4] cf. Stephan Boltzmann law\n",
    "\n",
    "########Astronomical Units########\n",
    "\n",
    "pc = 3.0856776*10**18 #[cm]\n",
    "kpc = 3.0856776*10**21 #[cm]\n",
    "Mpc = 3.0856776*10**24 #[cm]\n",
    "AU = 1.4959787066*10**13 #[cm]\n",
    "ly = 9.460730472*10**17 #[cm]\n",
    "Msun = 1.9891*10**33 #[g]\n",
    "Rsun = 6.95508*10**10 #[cm]\n",
    "Lsun = 3.845*10**33 #[erg s-1]\n",
    "eV = 1.60218e-12 #[erg]\n",
    "\n",
    "#######Units########\n",
    "yr = 365*24*60*60\n",
    "Myr = yr*1e6\n",
    "km = 1e5\n",
    "s = 1"
   ]
  },
  {
   "cell_type": "code",
   "execution_count": 4,
   "id": "e35dda69",
   "metadata": {
    "scrolled": false
   },
   "outputs": [
    {
     "name": "stderr",
     "output_type": "stream",
     "text": [
      "MovieWriter imagemagick unavailable; using Pillow instead.\n"
     ]
    },
    {
     "data": {
      "image/png": "[encoded data removed]",
      "text/plain": [
       "<Figure size 432x288 with 1 Axes>"
      ]
     },
     "metadata": {
      "needs_background": "light"
     },
     "output_type": "display_data"
    }
   ],
   "source": [
    "init0 = np.loadtxt(\"withoutgpu_basic/particle1.dat\",usecols = range(7))\n",
    "ix0 = init0.T[1]\n",
    "iy0 = init0.T[2]\n",
    "\n",
    "#init1 = np.loadtxt(\"earth_sun_16/particle1.dat\",usecols = range(7))\n",
    "#ix1 = init1.T[1]\n",
    "#iy1 = init1.T[2]\n",
    "\n",
    "#init2 = np.loadtxt(\"earth_sun_8/particle1.dat\",usecols = range(7))\n",
    "#ix2 = init2.T[1]\n",
    "#iy2 = init2.T[2]\n",
    "\n",
    "fig = plt.figure()\n",
    "ax = plt.axes(xlim=(-5, 5), ylim=(-5, 5))\n",
    "scat1 = ax.scatter(ix0, iy0, s=20, alpha = 0.5, color = 'r',label='0.005')\n",
    "#scat2 = ax.scatter(ix1, iy1, s=20, alpha = 0.5, color = 'g',label='0.01')\n",
    "#scat3 = ax.scatter(ix2, iy2, s=20, alpha = 0.5, color = 'b',label='0.02')\n",
    "\n",
    "label = plt.title(\"Time = 0.00month\", color=\"Black\")\n",
    "\n",
    "def update(i):\n",
    "    \n",
    "    num1 = i*16+1\n",
    "    #num2 = i*8+1\n",
    "    #num3 = i*4+1\n",
    "    \n",
    "    time = round(num1*0.03*0.179,4)\n",
    "    \n",
    "    filename1 = \"withoutgpu_basic/particle{}.dat\".format(num1)\n",
    "    #filename2 = \"earth_sun_16/particle{}.dat\".format(num2)\n",
    "    #filename3 = \"earth_sun_8/particle{}.dat\".format(num3)\n",
    "    \n",
    "    data1 = np.loadtxt(filename1,usecols = range(7))\n",
    "    #data2 = np.loadtxt(filename2,usecols = range(7))\n",
    "    #data3 = np.loadtxt(filename3,usecols = range(7))\n",
    "    \n",
    "    x1 = data1.T[1]\n",
    "    y1 = data1.T[2]\n",
    "    #x2 = data2.T[1]\n",
    "    #y2 = data2.T[2]\n",
    "    #x3 = data3.T[1]\n",
    "    #y3 = data3.T[2]\n",
    "    \n",
    "    position1 = np.stack([x1, y1])\n",
    "    #position2 = np.stack([x2, y2])\n",
    "    #position3 = np.stack([x3, y3])\n",
    "    \n",
    "    scat1.set_offsets(position1.T)\n",
    "    #scat2.set_offsets(position2.T)\n",
    "    #scat3.set_offsets(position3.T)\n",
    "    \n",
    "    label.set_text(\"Time = {}month\".format(time))\n",
    "\n",
    "    return scat1#,scat2,scat3\n",
    "\n",
    "ani = animation.FuncAnimation(fig, update, frames=198)\n",
    "ani.save('earth_sun_scalecheck.gif', writer='imagemagick', fps=3, dpi=100)"
   ]
  },
  {
   "cell_type": "code",
   "execution_count": null,
   "id": "06c049aa",
   "metadata": {},
   "outputs": [],
   "source": []
  }
 ],
 "metadata": {
  "kernelspec": {
   "display_name": "Python 3 (ipykernel)",
   "language": "python",
   "name": "python3"
  },
  "language_info": {
   "codemirror_mode": {
    "name": "ipython",
    "version": 3
   },
   "file_extension": ".py",
   "mimetype": "text/x-python",
   "name": "python",
   "nbconvert_exporter": "python",
   "pygments_lexer": "ipython3",
   "version": "3.9.12"
  }
 },
 "nbformat": 4,
 "nbformat_minor": 5
}
