{
 "cells": [
  {
   "cell_type": "code",
   "execution_count": 1,
   "id": "94a84e18",
   "metadata": {
    "scrolled": true
   },
   "outputs": [],
   "source": [
    "import numpy as np\n",
    "import matplotlib.pyplot as plt\n",
    "import pandas as pd\n",
    "import math"
   ]
  },
  {
   "cell_type": "code",
   "execution_count": 2,
   "id": "936a3d84",
   "metadata": {},
   "outputs": [],
   "source": [
    "########Mathematical Constants#######\n",
    "pi = 3.141592\n",
    "\n",
    "########Physical Constants########\n",
    "\n",
    "c = 2.99792458*10**10 #[cm s-1]\n",
    "G = 6.67408*(10**(-8)) #[cm3 g-1 s-2]\n",
    "h = 6.6260755*10**(-27) #[erg s]\n",
    "h_bar = h/2/np.pi\n",
    "k_B = 1.380658*10**(-16) #[erg K-1]\n",
    "m_e = 9.1093897e-28 #[g]\n",
    "m_p = 1.6726219e-24 #[g]\n",
    "e = 4.8032068e-10 #[esu]\n",
    "sigma_T = 0.665*1e-24 #[cm2]\n",
    "sigma_B = 5.59e-5 #[erg cm-2 s-1 K-4] cf. Stephan Boltzmann law\n",
    "\n",
    "########Astronomical Units########\n",
    "\n",
    "pc = 3.0856776*10**18 #[cm]\n",
    "kpc = 3.0856776*10**21 #[cm]\n",
    "Mpc = 3.0856776*10**24 #[cm]\n",
    "AU = 1.4959787066*10**13 #[cm]\n",
    "ly = 9.460730472*10**17 #[cm]\n",
    "Msun = 1.9891*10**33 #[g]\n",
    "Rsun = 6.95508*10**10 #[cm]\n",
    "Lsun = 3.845*10**33 #[erg s-1]\n",
    "eV = 1.60218e-12 #[erg]\n",
    "\n",
    "#######Units########\n",
    "yr = 365*24*60*60\n",
    "Myr = yr*1e6\n",
    "km = 1e5\n",
    "s = 1"
   ]
  },
  {
   "cell_type": "code",
   "execution_count": 3,
   "id": "8598b3b5",
   "metadata": {},
   "outputs": [
    {
     "name": "stdout",
     "output_type": "stream",
     "text": [
      "6.1713552e+18\n",
      "6.1713552e+20\n"
     ]
    }
   ],
   "source": [
    "print(2*pc)\n",
    "print(200*pc)"
   ]
  },
  {
   "cell_type": "code",
   "execution_count": 4,
   "id": "68dbe1a9",
   "metadata": {},
   "outputs": [],
   "source": [
    "data = np.loadtxt(\"earth_sun.dat\",delimiter = \",\",usecols = range(7))"
   ]
  },
  {
   "cell_type": "code",
   "execution_count": 5,
   "id": "1b02f243",
   "metadata": {},
   "outputs": [
    {
     "name": "stdout",
     "output_type": "stream",
     "text": [
      "[3.00273e-06 1.00000e+00]\n",
      "[[4.84814e-06 0.00000e+00]\n",
      " [0.00000e+00 0.00000e+00]\n",
      " [0.00000e+00 0.00000e+00]]\n",
      "[[ 0.  0.]\n",
      " [30.  0.]\n",
      " [ 0.  0.]]\n"
     ]
    }
   ],
   "source": [
    "# the input units are...\n",
    "# mass = solar mass\n",
    "# position = pc\n",
    "# velocity = km/s\n",
    "\n",
    "mass = data.T[0]\n",
    "pos = data.T[1:4]\n",
    "vel = data.T[4:7]\n",
    "\n",
    "print(mass)\n",
    "print(pos)\n",
    "print(vel)"
   ]
  },
  {
   "cell_type": "code",
   "execution_count": 6,
   "id": "c71a99b9",
   "metadata": {},
   "outputs": [],
   "source": [
    "particle = np.full((np.size(mass), 7), np.nan)"
   ]
  },
  {
   "cell_type": "code",
   "execution_count": 7,
   "id": "2ac3bc1f",
   "metadata": {},
   "outputs": [],
   "source": [
    "cmx = np.sum(pos[0])/len(pos[0])\n",
    "cmy = np.sum(pos[1])/len(pos[0])\n",
    "cmz = np.sum(pos[2])/len(pos[0])\n",
    "avevx = np.sum(vel[0])/len(pos[0])\n",
    "avevy = np.sum(vel[1])/len(pos[0])\n",
    "avevz = np.sum(vel[2])/len(pos[0])"
   ]
  },
  {
   "cell_type": "code",
   "execution_count": 8,
   "id": "dee555a5",
   "metadata": {},
   "outputs": [],
   "source": [
    "for i in range(np.size(mass)):\n",
    "    particle[i][0] = pos[0][i]\n",
    "    particle[i][1] = pos[1][i]\n",
    "    particle[i][2] = pos[2][i]\n",
    "    particle[i][3] = vel[0][i]\n",
    "    particle[i][4] = vel[1][i]\n",
    "    particle[i][5] = vel[2][i]\n",
    "    particle[i][6] = mass[i]"
   ]
  },
  {
   "cell_type": "code",
   "execution_count": 9,
   "id": "1754cac8",
   "metadata": {},
   "outputs": [
    {
     "name": "stdout",
     "output_type": "stream",
     "text": [
      "50.34111662174984 0.0329969796754133\n",
      "2 1.00000300273 0.500001501365\n",
      "3.29969796754133\n"
     ]
    }
   ],
   "source": [
    "# Unit Conversion Factors\n",
    "\n",
    "N = np.size(mass)\n",
    "Mtot = np.sum(mass)  # [solar mass]\n",
    "\n",
    "# for plummer model with scale length a, \n",
    "# Rhalf = ((1/0.5**(2/3)-1)**(-0.5))*a\n",
    "# Rvir = (16/3pi)*a\n",
    "\n",
    "# a = 1e-6 # [pc], typical scale\n",
    "# Rhalf = ((1/0.5**(2/3)-1)**(-0.5))*a  # [pc], half mass radius\n",
    "# Rvir = (16/(3*3.141562))*a # [pc], virial radius\n",
    "Rvir = 1e6 # [pc], virial radius\n",
    "\n",
    "# Nbody to conventional Units\n",
    "# conversion factors\n",
    "\n",
    "LengthUnit = Rvir  # [pc] \n",
    "MassUnit = Mtot   # [solar mass]\n",
    "VelocityUnit = (G*Msun*Mtot/(Rvir*pc))**(0.5)/(1e5) # [km/s]\n",
    "TimeUnit = ((Rvir*pc)**3/(Mtot*Msun*G))**(0.5)/(yr) # [yr]\n",
    "\n",
    "\n",
    "# just to check if I have got my constants right, I calculated this\n",
    "\n",
    "VelConst = (G*Msun/(pc))**(0.5)/(1e5)  # [km/s]\n",
    "TimeConst = ((pc)**3/(G*Msun))**(0.5)/(Myr)  # [Myr]\n",
    "\n",
    "print(VelocityUnit, TimeUnit)\n",
    "print(N, Mtot, Mtot/N)\n",
    "print(TimeUnit*100)"
   ]
  },
  {
   "cell_type": "code",
   "execution_count": 10,
   "id": "960630c9",
   "metadata": {},
   "outputs": [],
   "source": [
    "# I will give the units in mass = 1 Msol, velocity = km/s, length = pc\n",
    "# knowing this, let's convert dice units into NBODY units\n",
    "# originally, conventional = conversion factor * NBODY\n",
    "# so NBODY = conventional / conversion"
   ]
  },
  {
   "cell_type": "code",
   "execution_count": 11,
   "id": "d907796b",
   "metadata": {},
   "outputs": [],
   "source": [
    "NBODY = np.full((np.size(mass), 7), np.nan)"
   ]
  },
  {
   "cell_type": "code",
   "execution_count": 12,
   "id": "bf9f729e",
   "metadata": {},
   "outputs": [],
   "source": [
    "for i in range(np.size(mass)):\n",
    "    NBODY[i][0] = mass[i]/MassUnit\n",
    "    NBODY[i][1] = pos[0][i]/LengthUnit\n",
    "    NBODY[i][2] = pos[1][i]/LengthUnit\n",
    "    NBODY[i][3] = pos[2][i]/LengthUnit\n",
    "    NBODY[i][4] = vel[0][i]/VelocityUnit\n",
    "    NBODY[i][5] = vel[1][i]/VelocityUnit\n",
    "    NBODY[i][6] = vel[2][i]/VelocityUnit"
   ]
  },
  {
   "cell_type": "code",
   "execution_count": 13,
   "id": "d5c1b873",
   "metadata": {},
   "outputs": [],
   "source": [
    "np.savetxt('earth_sun_nbody.dat', NBODY, fmt = '%.6f')"
   ]
  },
  {
   "cell_type": "code",
   "execution_count": 16,
   "id": "715df0e3",
   "metadata": {},
   "outputs": [
    {
     "name": "stdout",
     "output_type": "stream",
     "text": [
      "enzo-nbody/particle1.dat\n"
     ]
    }
   ],
   "source": [
    "num = 1\n",
    "filename = \"enzo-nbody/particle{}.dat\".format(num)\n",
    "print(filename)"
   ]
  },
  {
   "cell_type": "code",
   "execution_count": null,
   "id": "85b314e1",
   "metadata": {},
   "outputs": [],
   "source": []
  }
 ],
 "metadata": {
  "kernelspec": {
   "display_name": "Python 3 (ipykernel)",
   "language": "python",
   "name": "python3"
  },
  "language_info": {
   "codemirror_mode": {
    "name": "ipython",
    "version": 3
   },
   "file_extension": ".py",
   "mimetype": "text/x-python",
   "name": "python",
   "nbconvert_exporter": "python",
   "pygments_lexer": "ipython3",
   "version": "3.9.12"
  }
 },
 "nbformat": 4,
 "nbformat_minor": 5
}
