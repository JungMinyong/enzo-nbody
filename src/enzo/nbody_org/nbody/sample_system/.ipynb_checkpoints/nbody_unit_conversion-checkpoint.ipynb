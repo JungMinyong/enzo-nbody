{
 "cells": [
  {
   "cell_type": "code",
   "execution_count": 1,
   "id": "94a84e18",
   "metadata": {
    "scrolled": true
   },
   "outputs": [],
   "source": [
    "import numpy as np\n",
    "import matplotlib.pyplot as plt\n",
    "import pandas as pd\n",
    "import math"
   ]
  },
  {
   "cell_type": "code",
   "execution_count": 2,
   "id": "936a3d84",
   "metadata": {},
   "outputs": [],
   "source": [
    "########Mathematical Constants#######\n",
    "pi = 3.141592\n",
    "\n",
    "########Physical Constants########\n",
    "\n",
    "c = 2.99792458*10**10 #[cm s-1]\n",
    "G = 6.67408*(10**(-8)) #[cm3 g-1 s-2]\n",
    "h = 6.6260755*10**(-27) #[erg s]\n",
    "h_bar = h/2/np.pi\n",
    "k_B = 1.380658*10**(-16) #[erg K-1]\n",
    "m_e = 9.1093897e-28 #[g]\n",
    "m_p = 1.6726219e-24 #[g]\n",
    "e = 4.8032068e-10 #[esu]\n",
    "sigma_T = 0.665*1e-24 #[cm2]\n",
    "sigma_B = 5.59e-5 #[erg cm-2 s-1 K-4] cf. Stephan Boltzmann law\n",
    "\n",
    "########Astronomical Units########\n",
    "\n",
    "pc = 3.0856776*10**18 #[cm]\n",
    "kpc = 3.0856776*10**21 #[cm]\n",
    "Mpc = 3.0856776*10**24 #[cm]\n",
    "AU = 1.4959787066*10**13 #[cm]\n",
    "ly = 9.460730472*10**17 #[cm]\n",
    "Msun = 1.9891*10**33 #[g]\n",
    "Rsun = 6.95508*10**10 #[cm]\n",
    "Lsun = 3.845*10**33 #[erg s-1]\n",
    "eV = 1.60218e-12 #[erg]\n",
    "\n",
    "#######Units########\n",
    "yr = 365*24*60*60\n",
    "Myr = yr*1e6\n",
    "km = 1e5\n",
    "s = 1"
   ]
  },
  {
   "cell_type": "code",
   "execution_count": 3,
   "id": "8598b3b5",
   "metadata": {},
   "outputs": [
    {
     "name": "stdout",
     "output_type": "stream",
     "text": [
      "6.1713552e+18\n",
      "6.1713552e+20\n"
     ]
    }
   ],
   "source": [
    "print(2*pc)\n",
    "print(200*pc)"
   ]
  },
  {
   "cell_type": "code",
   "execution_count": 4,
   "id": "68dbe1a9",
   "metadata": {},
   "outputs": [
    {
     "ename": "IndexError",
     "evalue": "list index out of range",
     "output_type": "error",
     "traceback": [
      "\u001b[0;31m---------------------------------------------------------------------------\u001b[0m",
      "\u001b[0;31mIndexError\u001b[0m                                Traceback (most recent call last)",
      "Input \u001b[0;32mIn [4]\u001b[0m, in \u001b[0;36m<cell line: 1>\u001b[0;34m()\u001b[0m\n\u001b[0;32m----> 1\u001b[0m data \u001b[38;5;241m=\u001b[39m \u001b[43mnp\u001b[49m\u001b[38;5;241;43m.\u001b[39;49m\u001b[43mloadtxt\u001b[49m\u001b[43m(\u001b[49m\u001b[38;5;124;43m\"\u001b[39;49m\u001b[38;5;124;43mearth_sun.dat\u001b[39;49m\u001b[38;5;124;43m\"\u001b[39;49m\u001b[43m,\u001b[49m\u001b[43mdelimiter\u001b[49m\u001b[43m \u001b[49m\u001b[38;5;241;43m=\u001b[39;49m\u001b[43m \u001b[49m\u001b[38;5;124;43m\"\u001b[39;49m\u001b[38;5;124;43m,\u001b[39;49m\u001b[38;5;124;43m\"\u001b[39;49m\u001b[43m,\u001b[49m\u001b[43musecols\u001b[49m\u001b[43m \u001b[49m\u001b[38;5;241;43m=\u001b[39;49m\u001b[43m \u001b[49m\u001b[38;5;28;43mrange\u001b[39;49m\u001b[43m(\u001b[49m\u001b[38;5;241;43m7\u001b[39;49m\u001b[43m)\u001b[49m\u001b[43m)\u001b[49m\n",
      "File \u001b[0;32m~/anaconda3/envs/astroexp1/lib/python3.9/site-packages/numpy/lib/npyio.py:1148\u001b[0m, in \u001b[0;36mloadtxt\u001b[0;34m(fname, dtype, comments, delimiter, converters, skiprows, usecols, unpack, ndmin, encoding, max_rows, like)\u001b[0m\n\u001b[1;32m   1143\u001b[0m \u001b[38;5;66;03m# read data in chunks and fill it into an array via resize\u001b[39;00m\n\u001b[1;32m   1144\u001b[0m \u001b[38;5;66;03m# over-allocating and shrinking the array later may be faster but is\u001b[39;00m\n\u001b[1;32m   1145\u001b[0m \u001b[38;5;66;03m# probably not relevant compared to the cost of actually reading and\u001b[39;00m\n\u001b[1;32m   1146\u001b[0m \u001b[38;5;66;03m# converting the data\u001b[39;00m\n\u001b[1;32m   1147\u001b[0m X \u001b[38;5;241m=\u001b[39m \u001b[38;5;28;01mNone\u001b[39;00m\n\u001b[0;32m-> 1148\u001b[0m \u001b[38;5;28;01mfor\u001b[39;00m x \u001b[38;5;129;01min\u001b[39;00m read_data(_loadtxt_chunksize):\n\u001b[1;32m   1149\u001b[0m     \u001b[38;5;28;01mif\u001b[39;00m X \u001b[38;5;129;01mis\u001b[39;00m \u001b[38;5;28;01mNone\u001b[39;00m:\n\u001b[1;32m   1150\u001b[0m         X \u001b[38;5;241m=\u001b[39m np\u001b[38;5;241m.\u001b[39marray(x, dtype)\n",
      "File \u001b[0;32m~/anaconda3/envs/astroexp1/lib/python3.9/site-packages/numpy/lib/npyio.py:992\u001b[0m, in \u001b[0;36mloadtxt.<locals>.read_data\u001b[0;34m(chunk_size)\u001b[0m\n\u001b[1;32m    990\u001b[0m     \u001b[38;5;28;01mcontinue\u001b[39;00m\n\u001b[1;32m    991\u001b[0m \u001b[38;5;28;01mif\u001b[39;00m usecols:\n\u001b[0;32m--> 992\u001b[0m     vals \u001b[38;5;241m=\u001b[39m [vals[j] \u001b[38;5;28;01mfor\u001b[39;00m j \u001b[38;5;129;01min\u001b[39;00m usecols]\n\u001b[1;32m    993\u001b[0m \u001b[38;5;28;01mif\u001b[39;00m \u001b[38;5;28mlen\u001b[39m(vals) \u001b[38;5;241m!=\u001b[39m N:\n\u001b[1;32m    994\u001b[0m     line_num \u001b[38;5;241m=\u001b[39m i \u001b[38;5;241m+\u001b[39m skiprows \u001b[38;5;241m+\u001b[39m \u001b[38;5;241m1\u001b[39m\n",
      "File \u001b[0;32m~/anaconda3/envs/astroexp1/lib/python3.9/site-packages/numpy/lib/npyio.py:992\u001b[0m, in \u001b[0;36m<listcomp>\u001b[0;34m(.0)\u001b[0m\n\u001b[1;32m    990\u001b[0m     \u001b[38;5;28;01mcontinue\u001b[39;00m\n\u001b[1;32m    991\u001b[0m \u001b[38;5;28;01mif\u001b[39;00m usecols:\n\u001b[0;32m--> 992\u001b[0m     vals \u001b[38;5;241m=\u001b[39m [\u001b[43mvals\u001b[49m\u001b[43m[\u001b[49m\u001b[43mj\u001b[49m\u001b[43m]\u001b[49m \u001b[38;5;28;01mfor\u001b[39;00m j \u001b[38;5;129;01min\u001b[39;00m usecols]\n\u001b[1;32m    993\u001b[0m \u001b[38;5;28;01mif\u001b[39;00m \u001b[38;5;28mlen\u001b[39m(vals) \u001b[38;5;241m!=\u001b[39m N:\n\u001b[1;32m    994\u001b[0m     line_num \u001b[38;5;241m=\u001b[39m i \u001b[38;5;241m+\u001b[39m skiprows \u001b[38;5;241m+\u001b[39m \u001b[38;5;241m1\u001b[39m\n",
      "\u001b[0;31mIndexError\u001b[0m: list index out of range"
     ]
    }
   ],
   "source": [
    "data = np.loadtxt(\"earth_sun.dat\",delimiter = \",\",usecols = range(7))"
   ]
  },
  {
   "cell_type": "code",
   "execution_count": null,
   "id": "1b02f243",
   "metadata": {},
   "outputs": [],
   "source": [
    "# the input units are...\n",
    "# mass = solar mass\n",
    "# position = pc\n",
    "# velocity = km/s\n",
    "\n",
    "mass = data.T[0]\n",
    "pos = data.T[1:4]\n",
    "vel = data.T[4:7]\n",
    "\n",
    "print(mass)\n",
    "print(pos)\n",
    "print(vel)"
   ]
  },
  {
   "cell_type": "code",
   "execution_count": null,
   "id": "c71a99b9",
   "metadata": {},
   "outputs": [],
   "source": [
    "particle = np.full((np.size(mass), 7), np.nan)"
   ]
  },
  {
   "cell_type": "code",
   "execution_count": null,
   "id": "2ac3bc1f",
   "metadata": {},
   "outputs": [],
   "source": [
    "cmx = np.sum(pos[0])/len(pos[0])\n",
    "cmy = np.sum(pos[1])/len(pos[0])\n",
    "cmz = np.sum(pos[2])/len(pos[0])\n",
    "avevx = np.sum(vel[0])/len(pos[0])\n",
    "avevy = np.sum(vel[1])/len(pos[0])\n",
    "avevz = np.sum(vel[2])/len(pos[0])"
   ]
  },
  {
   "cell_type": "code",
   "execution_count": null,
   "id": "dee555a5",
   "metadata": {},
   "outputs": [],
   "source": [
    "for i in range(np.size(mass)):\n",
    "    particle[i][1] = pos[0][i]\n",
    "    particle[i][2] = pos[1][i]\n",
    "    particle[i][3] = pos[2][i]\n",
    "    particle[i][4] = vel[0][i]\n",
    "    particle[i][5] = vel[1][i]\n",
    "    particle[i][6] = vel[2][i]\n",
    "    particle[i][0] = mass[i]"
   ]
  },
  {
   "cell_type": "code",
   "execution_count": null,
   "id": "1754cac8",
   "metadata": {
    "scrolled": true
   },
   "outputs": [],
   "source": [
    "# Unit Conversion Factors\n",
    "\n",
    "N = np.size(mass)\n",
    "Mtot = np.sum(mass)  # [solar mass]\n",
    "\n",
    "# for plummer model with scale length a, \n",
    "# Rhalf = ((1/0.5**(2/3)-1)**(-0.5))*a\n",
    "# Rvir = (16/3pi)*a\n",
    "\n",
    "# a = 1e-6 # [pc], typical scale\n",
    "# Rhalf = ((1/0.5**(2/3)-1)**(-0.5))*a  # [pc], half mass radius\n",
    "# Rvir = (16/(3*3.141562))*a # [pc], virial radius\n",
    "Rvir = 1e-6 # [pc], virial radius\n",
    "\n",
    "# Nbody to conventional Units\n",
    "# conversion factors\n",
    "\n",
    "LengthUnit = Rvir  # [pc] \n",
    "MassUnit = Mtot   # [solar mass]\n",
    "#VelocityUnit = (G*Msun*Mtot/(Rvir*pc))**(0.5)/(1e5) # [km/s]\n",
    "#TimeUnit = ((Rvir*pc)**3/(Mtot*Msun*G))**(0.5)/(yr) # [yr]\n",
    "VelocityUnit = 0.06577*(Mtot/Rvir)**(0.5) # [km/s]\n",
    "TimeUnit = 14.94*((Rvir)**3/(Mtot))**(0.5) # [Myr]\n",
    "\n",
    "\n",
    "\n",
    "# just to check if I have got my constants right, I calculated this\n",
    "\n",
    "VelConst = (G*Msun/(pc))**(0.5)/(1e5)  # [km/s]\n",
    "TimeConst = ((pc)**3/(G*Msun))**(0.5)/(Myr)  # [Myr]\n",
    "\n",
    "print(VelocityUnit, TimeUnit)\n",
    "print(VelConst,TimeConst)\n",
    "print(N, Mtot, Mtot/N)\n",
    "print(TimeUnit*100)"
   ]
  },
  {
   "cell_type": "code",
   "execution_count": null,
   "id": "960630c9",
   "metadata": {},
   "outputs": [],
   "source": [
    "# I will give the units in mass = 1 Msol, velocity = km/s, length = pc\n",
    "# knowing this, let's convert dice units into NBODY units\n",
    "# originally, conventional = conversion factor * NBODY\n",
    "# so NBODY = conventional / conversion"
   ]
  },
  {
   "cell_type": "code",
   "execution_count": null,
   "id": "d907796b",
   "metadata": {},
   "outputs": [],
   "source": [
    "NBODY = np.full((np.size(mass), 7), np.nan)"
   ]
  },
  {
   "cell_type": "code",
   "execution_count": null,
   "id": "bf9f729e",
   "metadata": {},
   "outputs": [],
   "source": [
    "for i in range(np.size(mass)):\n",
    "    NBODY[i][0] = mass[i]/MassUnit\n",
    "    NBODY[i][1] = pos[0][i]/LengthUnit\n",
    "    NBODY[i][2] = pos[1][i]/LengthUnit\n",
    "    NBODY[i][3] = pos[2][i]/LengthUnit\n",
    "    NBODY[i][4] = vel[0][i]/VelocityUnit\n",
    "    NBODY[i][5] = vel[1][i]/VelocityUnit\n",
    "    NBODY[i][6] = vel[2][i]/VelocityUnit"
   ]
  },
  {
   "cell_type": "code",
   "execution_count": null,
   "id": "d5c1b873",
   "metadata": {},
   "outputs": [],
   "source": [
    "np.savetxt('earth_sun_nbody_test.dat', NBODY, fmt = '%.6f')"
   ]
  },
  {
   "cell_type": "code",
   "execution_count": null,
   "id": "191d1c52",
   "metadata": {},
   "outputs": [],
   "source": [
    "np.savetxt('earth_sun.dat',particle , fmt = '%.10f')"
   ]
  },
  {
   "cell_type": "code",
   "execution_count": null,
   "id": "715df0e3",
   "metadata": {},
   "outputs": [],
   "source": [
    "num = 1\n",
    "filename = \"enzo-nbody/particle{}.dat\".format(num)\n",
    "print(filename)"
   ]
  },
  {
   "cell_type": "code",
   "execution_count": null,
   "id": "85b314e1",
   "metadata": {},
   "outputs": [],
   "source": [
    "# let's calculate the proper nbody time scale\n",
    "\n",
    "eta = 0.015\n",
    "M = Msun # g\n",
    "R = AU # cm\n",
    "V = 30000*100 # cm/s\n",
    "\n",
    "a = abs(- G*M/((R)**2)) #cm/s^2\n",
    "ad = abs(- G*M*(V/(R**3)))\n",
    "a2d = abs(- G*M*(a/(R**3) -3*(V**2+R*a)/(R**4)))\n",
    "a3d = abs(- G*M*(ad/(R**3) -9*V*(V**2+R*a)/(R**5)))\n",
    "\n",
    "time = math.sqrt(eta*(a*a2d+ad**2)/(ad*a3d+a2d**2)) # sec\n",
    "yrtime = time/yr # yr\n",
    "mthtime = yrtime*12 # month\n",
    "\n",
    "print(M,R,V)\n",
    "print(a,ad,a2d,a3d)\n",
    "print(yrtime,mthtime)"
   ]
  }
 ],
 "metadata": {
  "kernelspec": {
   "display_name": "Python 3 (ipykernel)",
   "language": "python",
   "name": "python3"
  },
  "language_info": {
   "codemirror_mode": {
    "name": "ipython",
    "version": 3
   },
   "file_extension": ".py",
   "mimetype": "text/x-python",
   "name": "python",
   "nbconvert_exporter": "python",
   "pygments_lexer": "ipython3",
   "version": "3.9.12"
  }
 },
 "nbformat": 4,
 "nbformat_minor": 5
}
